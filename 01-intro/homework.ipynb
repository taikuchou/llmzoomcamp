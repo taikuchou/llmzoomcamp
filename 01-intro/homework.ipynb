{
 "cells": [
  {
   "cell_type": "code",
   "execution_count": 1,
   "id": "e2a97fb7-2882-45fa-acc0-116caa1b3385",
   "metadata": {},
   "outputs": [],
   "source": [
    "import openai"
   ]
  },
  {
   "cell_type": "code",
   "execution_count": 2,
   "id": "52e44f2e-e622-4f51-9959-28ff290bcb1e",
   "metadata": {},
   "outputs": [],
   "source": [
    "from openai import OpenAI"
   ]
  },
  {
   "cell_type": "code",
   "execution_count": 3,
   "id": "9149ac4c-64ec-4801-bd5d-1b90ffc46bfd",
   "metadata": {},
   "outputs": [],
   "source": [
    "client = OpenAI()"
   ]
  },
  {
   "cell_type": "code",
   "execution_count": 4,
   "id": "55cbceac-3b2d-49bf-bc88-6355c71ed32a",
   "metadata": {},
   "outputs": [],
   "source": [
    "import os"
   ]
  },
  {
   "cell_type": "code",
   "execution_count": 5,
   "id": "bf2e4fb1-2277-4e3b-b358-3b94b7e826ba",
   "metadata": {},
   "outputs": [
    {
     "data": {
      "text/plain": [
       "\"It depends on several factors such as which course you're referring to, the enrollment deadlines set by the institution or course provider, and where they currently stand in their schedule. Many courses have specific start dates and enrollment periods, but others may offer rolling admissions or allow you to join at any point and catch up at your own pace.\\n\\nTo get accurate information, you should check the specific course's website, contact the instructor or administrative office, or review any communications you may have received about the course. They can provide definitive details about deadlines and any potential penalties or requirements for late enrollment.\""
      ]
     },
     "execution_count": 5,
     "metadata": {},
     "output_type": "execute_result"
    }
   ],
   "source": [
    "response = client.chat.completions.create(\n",
    "model='gpt-4o',\n",
    "messages=[{\"role\": \"user\", \"content\": \"is it too late to join this course?\"}]\n",
    ")\n",
    "\n",
    "response.choices[0].message.content"
   ]
  },
  {
   "cell_type": "code",
   "execution_count": null,
   "id": "11d98e06-fbdf-4792-9c3b-433ce52f85fe",
   "metadata": {},
   "outputs": [],
   "source": []
  }
 ],
 "metadata": {
  "kernelspec": {
   "display_name": "Python 3 (ipykernel)",
   "language": "python",
   "name": "python3"
  },
  "language_info": {
   "codemirror_mode": {
    "name": "ipython",
    "version": 3
   },
   "file_extension": ".py",
   "mimetype": "text/x-python",
   "name": "python",
   "nbconvert_exporter": "python",
   "pygments_lexer": "ipython3",
   "version": "3.10.13"
  }
 },
 "nbformat": 4,
 "nbformat_minor": 5
}
