{
 "cells": [
  {
   "cell_type": "markdown",
   "id": "6a4d880e-055a-46d0-b925-bd409b26a4dc",
   "metadata": {},
   "source": [
    "pip install tqdm notebook==7.1.2 openai elasticsearch pandas scikit-learn ipywidgets elasticsearch"
   ]
  }
 ],
 "metadata": {
  "kernelspec": {
   "display_name": "Python 3 (ipykernel)",
   "language": "python",
   "name": "python3"
  },
  "language_info": {
   "codemirror_mode": {
    "name": "ipython",
    "version": 3
   },
   "file_extension": ".py",
   "mimetype": "text/x-python",
   "name": "python",
   "nbconvert_exporter": "python",
   "pygments_lexer": "ipython3",
   "version": "3.10.13"
  }
 },
 "nbformat": 4,
 "nbformat_minor": 5
}
