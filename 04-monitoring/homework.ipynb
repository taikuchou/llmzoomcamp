{
 "cells": [
  {
   "cell_type": "code",
   "execution_count": 1,
   "id": "b76f371c-d494-4429-97f1-26adea473afe",
   "metadata": {},
   "outputs": [
    {
     "name": "stderr",
     "output_type": "stream",
     "text": [
      "/Users/crystalbravo/opt/anaconda3/lib/python3.9/site-packages/pandas/core/computation/expressions.py:21: UserWarning: Pandas requires version '2.8.4' or newer of 'numexpr' (version '2.8.3' currently installed).\n",
      "  from pandas.core.computation.check import NUMEXPR_INSTALLED\n",
      "/Users/crystalbravo/opt/anaconda3/lib/python3.9/site-packages/pandas/core/arrays/masked.py:60: UserWarning: Pandas requires version '1.3.6' or newer of 'bottleneck' (version '1.3.5' currently installed).\n",
      "  from pandas.core import (\n"
     ]
    }
   ],
   "source": [
    "import requests \n",
    "import pandas as pd\n",
    "github_url = 'https://github.com/DataTalksClub/llm-zoomcamp/blob/main/04-monitoring/data/results-gpt4o-mini.csv'\n",
    "url = f'{github_url}?raw=1'\n",
    "df = pd.read_csv(url)"
   ]
  },
  {
   "cell_type": "code",
   "execution_count": 2,
   "id": "7b8bb550-3486-4633-8042-2e6680c6e0b8",
   "metadata": {},
   "outputs": [],
   "source": [
    "df = df.iloc[:300]"
   ]
  },
  {
   "cell_type": "code",
   "execution_count": 8,
   "id": "9034cfa8-360a-418a-880c-b1ad91dd47c2",
   "metadata": {},
   "outputs": [
    {
     "data": {
      "text/plain": [
       "answer_llm     You can sign up for the course by visiting the...\n",
       "answer_orig    Machine Learning Zoomcamp FAQ\\nThe purpose of ...\n",
       "document                                                0227b872\n",
       "question                     Where can I sign up for the course?\n",
       "course                                 machine-learning-zoomcamp\n",
       "Name: 0, dtype: object"
      ]
     },
     "execution_count": 8,
     "metadata": {},
     "output_type": "execute_result"
    }
   ],
   "source": [
    "df.iloc[0]"
   ]
  },
  {
   "cell_type": "markdown",
   "id": "3feeeb9e-9603-459d-9203-8d2f8825351f",
   "metadata": {},
   "source": [
    "**Q1. Getting the embeddings model"
   ]
  },
  {
   "cell_type": "code",
   "execution_count": 9,
   "id": "ecebfd54-92ad-4bed-9ae2-e3b44c17f61a",
   "metadata": {},
   "outputs": [
    {
     "name": "stderr",
     "output_type": "stream",
     "text": [
      "/Users/crystalbravo/opt/anaconda3/lib/python3.9/site-packages/sentence_transformers/cross_encoder/CrossEncoder.py:11: TqdmExperimentalWarning: Using `tqdm.autonotebook.tqdm` in notebook mode. Use `tqdm.tqdm` instead to force console mode (e.g. in jupyter console)\n",
      "  from tqdm.autonotebook import tqdm, trange\n"
     ]
    },
    {
     "data": {
      "application/vnd.jupyter.widget-view+json": {
       "model_id": "440cac51075a4323a924299d2321f630",
       "version_major": 2,
       "version_minor": 0
      },
      "text/plain": [
       "modules.json:   0%|          | 0.00/229 [00:00<?, ?B/s]"
      ]
     },
     "metadata": {},
     "output_type": "display_data"
    },
    {
     "data": {
      "application/vnd.jupyter.widget-view+json": {
       "model_id": "80f48cc5fdd845ba85ca903c177240f0",
       "version_major": 2,
       "version_minor": 0
      },
      "text/plain": [
       "config_sentence_transformers.json:   0%|          | 0.00/212 [00:00<?, ?B/s]"
      ]
     },
     "metadata": {},
     "output_type": "display_data"
    },
    {
     "data": {
      "application/vnd.jupyter.widget-view+json": {
       "model_id": "62f57841d3fb48a781f241ec4cd29de6",
       "version_major": 2,
       "version_minor": 0
      },
      "text/plain": [
       "README.md:   0%|          | 0.00/8.71k [00:00<?, ?B/s]"
      ]
     },
     "metadata": {},
     "output_type": "display_data"
    },
    {
     "data": {
      "application/vnd.jupyter.widget-view+json": {
       "model_id": "65a5e26071ab4123a5b5b056904a7aae",
       "version_major": 2,
       "version_minor": 0
      },
      "text/plain": [
       "sentence_bert_config.json:   0%|          | 0.00/53.0 [00:00<?, ?B/s]"
      ]
     },
     "metadata": {},
     "output_type": "display_data"
    },
    {
     "data": {
      "application/vnd.jupyter.widget-view+json": {
       "model_id": "29b89043c892498e9cc1601d04a73fef",
       "version_major": 2,
       "version_minor": 0
      },
      "text/plain": [
       "config.json:   0%|          | 0.00/571 [00:00<?, ?B/s]"
      ]
     },
     "metadata": {},
     "output_type": "display_data"
    },
    {
     "data": {
      "application/vnd.jupyter.widget-view+json": {
       "model_id": "51b60c36f1ea4e41a4a1ec451b73e978",
       "version_major": 2,
       "version_minor": 0
      },
      "text/plain": [
       "model.safetensors:   0%|          | 0.00/438M [00:00<?, ?B/s]"
      ]
     },
     "metadata": {},
     "output_type": "display_data"
    },
    {
     "data": {
      "application/vnd.jupyter.widget-view+json": {
       "model_id": "f6112bbd3e7345868bd06c4c92e52fb8",
       "version_major": 2,
       "version_minor": 0
      },
      "text/plain": [
       "tokenizer_config.json:   0%|          | 0.00/363 [00:00<?, ?B/s]"
      ]
     },
     "metadata": {},
     "output_type": "display_data"
    },
    {
     "data": {
      "application/vnd.jupyter.widget-view+json": {
       "model_id": "5bd83c4355b24dccaa711c61683b6e24",
       "version_major": 2,
       "version_minor": 0
      },
      "text/plain": [
       "vocab.txt:   0%|          | 0.00/232k [00:00<?, ?B/s]"
      ]
     },
     "metadata": {},
     "output_type": "display_data"
    },
    {
     "data": {
      "application/vnd.jupyter.widget-view+json": {
       "model_id": "e9314685e68b4e59b582355ade0732eb",
       "version_major": 2,
       "version_minor": 0
      },
      "text/plain": [
       "tokenizer.json:   0%|          | 0.00/466k [00:00<?, ?B/s]"
      ]
     },
     "metadata": {},
     "output_type": "display_data"
    },
    {
     "data": {
      "application/vnd.jupyter.widget-view+json": {
       "model_id": "921656c5a563444d836e77cf3acd9695",
       "version_major": 2,
       "version_minor": 0
      },
      "text/plain": [
       "special_tokens_map.json:   0%|          | 0.00/239 [00:00<?, ?B/s]"
      ]
     },
     "metadata": {},
     "output_type": "display_data"
    },
    {
     "data": {
      "application/vnd.jupyter.widget-view+json": {
       "model_id": "5b419995a0784654b3095b79c584f09e",
       "version_major": 2,
       "version_minor": 0
      },
      "text/plain": [
       "1_Pooling/config.json:   0%|          | 0.00/190 [00:00<?, ?B/s]"
      ]
     },
     "metadata": {},
     "output_type": "display_data"
    }
   ],
   "source": [
    "from sentence_transformers import SentenceTransformer\n",
    "model_name = \"multi-qa-mpnet-base-dot-v1\"\n",
    "embedding_model = SentenceTransformer(model_name)"
   ]
  },
  {
   "cell_type": "code",
   "execution_count": 13,
   "id": "c0035292-ee57-4548-9b0c-9cb7fd7349f2",
   "metadata": {},
   "outputs": [],
   "source": [
    "v_llm = embedding_model.encode(df.iloc[0].answer_llm)\n",
    "# v_orig = embedding_model.encode(df.iloc[0].answer_orig)\n",
    "\n",
    "# v_llm.dot(v_orig)"
   ]
  },
  {
   "cell_type": "code",
   "execution_count": 12,
   "id": "559d31a2-5e66-4ce3-86de-b7aea25acabb",
   "metadata": {},
   "outputs": [
    {
     "data": {
      "text/plain": [
       "-0.42244658"
      ]
     },
     "execution_count": 12,
     "metadata": {},
     "output_type": "execute_result"
    }
   ],
   "source": [
    "v_llm[0]"
   ]
  },
  {
   "cell_type": "markdown",
   "id": "48321013-ba90-4710-a407-448094951fcc",
   "metadata": {},
   "source": [
    "**Q2. Computing the dot product"
   ]
  },
  {
   "cell_type": "code",
   "execution_count": 17,
   "id": "bcc3a64b-c5fc-40ac-8aeb-c8160b8be0f8",
   "metadata": {},
   "outputs": [
    {
     "data": {
      "application/vnd.jupyter.widget-view+json": {
       "model_id": "9c7f5752ce144be1ac5f1ea68a640c7f",
       "version_major": 2,
       "version_minor": 0
      },
      "text/plain": [
       "  0%|          | 0/300 [00:00<?, ?it/s]"
      ]
     },
     "metadata": {},
     "output_type": "display_data"
    }
   ],
   "source": [
    "from tqdm.auto import tqdm\n",
    "evaluations = []\n",
    "for i in tqdm(range(len(df))):\n",
    "    v_llm = embedding_model.encode(df.iloc[i].answer_llm)\n",
    "    v_orig = embedding_model.encode(df.iloc[i].answer_orig)\n",
    "    dot = v_llm.dot(v_orig)\n",
    "    evaluations.append(dot)\n"
   ]
  },
  {
   "cell_type": "code",
   "execution_count": 19,
   "id": "b0dc3c89-6831-4405-9498-4bf1c1049d07",
   "metadata": {},
   "outputs": [
    {
     "data": {
      "text/plain": [
       "count    300.000000\n",
       "mean      27.495996\n",
       "std        6.384743\n",
       "min        4.547925\n",
       "25%       24.307841\n",
       "50%       28.336861\n",
       "75%       31.674304\n",
       "max       39.476013\n",
       "Name: evaluations, dtype: float64"
      ]
     },
     "execution_count": 19,
     "metadata": {},
     "output_type": "execute_result"
    }
   ],
   "source": [
    "df[\"evaluations\"] = evaluations\n",
    "df[\"evaluations\"].describe()"
   ]
  },
  {
   "cell_type": "code",
   "execution_count": 48,
   "id": "bd3a1191-59f3-4488-a668-ed30660dfec0",
   "metadata": {},
   "outputs": [
    {
     "data": {
      "text/plain": [
       "31.674304008483887"
      ]
     },
     "execution_count": 48,
     "metadata": {},
     "output_type": "execute_result"
    }
   ],
   "source": [
    "df[\"evaluations\"].quantile(q=0.75)"
   ]
  },
  {
   "cell_type": "markdown",
   "id": "48911483-f911-459d-97c1-d97ae83b8289",
   "metadata": {},
   "source": [
    "**Q3. Computing the cosine"
   ]
  },
  {
   "cell_type": "code",
   "execution_count": 20,
   "id": "f7b0e13e-e92b-448f-9ad6-e176f7647455",
   "metadata": {},
   "outputs": [],
   "source": [
    "import numpy as np"
   ]
  },
  {
   "cell_type": "code",
   "execution_count": 22,
   "id": "3a996d19-820c-42de-8b61-798be77108d2",
   "metadata": {},
   "outputs": [],
   "source": [
    "def get_v_norm(v):\n",
    "    norm = np.sqrt((v * v).sum())\n",
    "    v_norm = v / norm\n",
    "    return v_norm"
   ]
  },
  {
   "cell_type": "code",
   "execution_count": 23,
   "id": "1851caa3-b0b5-4c0f-9f4f-22c920949639",
   "metadata": {},
   "outputs": [
    {
     "data": {
      "application/vnd.jupyter.widget-view+json": {
       "model_id": "70af585baa9845a3b7b8c64fd6b86a9e",
       "version_major": 2,
       "version_minor": 0
      },
      "text/plain": [
       "  0%|          | 0/300 [00:00<?, ?it/s]"
      ]
     },
     "metadata": {},
     "output_type": "display_data"
    }
   ],
   "source": [
    "similarity = []\n",
    "for i in tqdm(range(len(evaluations))):\n",
    "    v_llm = embedding_model.encode(df.iloc[i].answer_llm)\n",
    "    v_llm = get_v_norm(v_llm)\n",
    "    v_orig = embedding_model.encode(df.iloc[i].answer_orig)\n",
    "    v_orig = get_v_norm(v_orig)\n",
    "    dot = v_llm.dot(v_orig)\n",
    "    similarity.append(dot)"
   ]
  },
  {
   "cell_type": "code",
   "execution_count": 24,
   "id": "63b6a140-9692-4bbc-83b1-48828f81a070",
   "metadata": {},
   "outputs": [
    {
     "data": {
      "text/plain": [
       "count    300.000000\n",
       "mean       0.728392\n",
       "std        0.157755\n",
       "min        0.125357\n",
       "25%        0.651273\n",
       "50%        0.763761\n",
       "75%        0.836235\n",
       "max        0.958796\n",
       "Name: similarity, dtype: float64"
      ]
     },
     "execution_count": 24,
     "metadata": {},
     "output_type": "execute_result"
    }
   ],
   "source": [
    "df[\"similarity\"] = similarity\n",
    "df[\"similarity\"].describe()"
   ]
  },
  {
   "cell_type": "code",
   "execution_count": 47,
   "id": "88c89d0f-0fe9-412b-aacb-374cb5676348",
   "metadata": {},
   "outputs": [
    {
     "data": {
      "text/plain": [
       "0.8362347632646561"
      ]
     },
     "execution_count": 47,
     "metadata": {},
     "output_type": "execute_result"
    }
   ],
   "source": [
    "df[\"similarity\"].quantile(q=0.75)"
   ]
  },
  {
   "cell_type": "markdown",
   "id": "bdd26fe5-7b63-4639-8f9b-abd1f868a48f",
   "metadata": {},
   "source": [
    "**Q4. Rouge"
   ]
  },
  {
   "cell_type": "code",
   "execution_count": 25,
   "id": "6380f1d6-9ec3-46da-a1f2-e56d428ca239",
   "metadata": {},
   "outputs": [
    {
     "name": "stderr",
     "output_type": "stream",
     "text": [
      "huggingface/tokenizers: The current process just got forked, after parallelism has already been used. Disabling parallelism to avoid deadlocks...\n",
      "To disable this warning, you can either:\n",
      "\t- Avoid using `tokenizers` before the fork if possible\n",
      "\t- Explicitly set the environment variable TOKENIZERS_PARALLELISM=(true | false)\n"
     ]
    },
    {
     "name": "stdout",
     "output_type": "stream",
     "text": [
      "Collecting rouge\n",
      "  Downloading rouge-1.0.1-py3-none-any.whl.metadata (4.1 kB)\n",
      "Requirement already satisfied: six in /Users/crystalbravo/opt/anaconda3/lib/python3.9/site-packages (from rouge) (1.12.0)\n",
      "Downloading rouge-1.0.1-py3-none-any.whl (13 kB)\n",
      "\u001b[33mWARNING: Error parsing dependencies of textract: .* suffix can only be used with `==` or `!=` operators\n",
      "    extract-msg (<=0.29.*)\n",
      "                 ~~~~~~~^\u001b[0m\u001b[33m\n",
      "\u001b[0mInstalling collected packages: rouge\n",
      "Successfully installed rouge-1.0.1\n",
      "\n",
      "\u001b[1m[\u001b[0m\u001b[34;49mnotice\u001b[0m\u001b[1;39;49m]\u001b[0m\u001b[39;49m A new release of pip is available: \u001b[0m\u001b[31;49m24.1.1\u001b[0m\u001b[39;49m -> \u001b[0m\u001b[32;49m24.1.2\u001b[0m\n",
      "\u001b[1m[\u001b[0m\u001b[34;49mnotice\u001b[0m\u001b[1;39;49m]\u001b[0m\u001b[39;49m To update, run: \u001b[0m\u001b[32;49m/Users/crystalbravo/opt/anaconda3/bin/python3 -m pip install --upgrade pip\u001b[0m\n",
      "Note: you may need to restart the kernel to use updated packages.\n"
     ]
    }
   ],
   "source": [
    "%pip install rouge"
   ]
  },
  {
   "cell_type": "code",
   "execution_count": 28,
   "id": "5bc669f9-919a-4b53-b5f4-6befdc4087b6",
   "metadata": {},
   "outputs": [
    {
     "data": {
      "text/plain": [
       "answer_llm     Yes, all sessions are recorded, so if you miss...\n",
       "answer_orig    Everything is recorded, so you won’t miss anyt...\n",
       "document                                                5170565b\n",
       "question                    Are sessions recorded if I miss one?\n",
       "course                                 machine-learning-zoomcamp\n",
       "evaluations                                            32.344711\n",
       "similarity                                              0.777956\n",
       "Name: 10, dtype: object"
      ]
     },
     "execution_count": 28,
     "metadata": {},
     "output_type": "execute_result"
    }
   ],
   "source": [
    "r = df.iloc[10]\n",
    "r"
   ]
  },
  {
   "cell_type": "code",
   "execution_count": 40,
   "id": "f37a7242-7145-4476-b23b-dcab8d708a2a",
   "metadata": {},
   "outputs": [
    {
     "data": {
      "text/plain": [
       "0.45454544954545456"
      ]
     },
     "execution_count": 40,
     "metadata": {},
     "output_type": "execute_result"
    }
   ],
   "source": [
    "from rouge import Rouge\n",
    "rouge_scorer = Rouge()\n",
    "def get_scores(r):\n",
    "    return rouge_scorer.get_scores(r['answer_llm'], r['answer_orig'])[0]\n",
    "scores = get_scores(r)\n",
    "scores['rouge-1']['f']"
   ]
  },
  {
   "cell_type": "markdown",
   "id": "cde1da1c-a329-43c4-a325-f4fefae305d3",
   "metadata": {},
   "source": [
    "**Q5. Average rouge score"
   ]
  },
  {
   "cell_type": "code",
   "execution_count": 41,
   "id": "6f0ab1cd-5116-474c-84f7-839e5717fbbd",
   "metadata": {},
   "outputs": [],
   "source": [
    "def average_rouge_score(scores):\n",
    "    avg = (scores['rouge-2']['f'] + scores['rouge-1']['f'] + scores['rouge-l']['f'] ) / 3\n",
    "    return avg"
   ]
  },
  {
   "cell_type": "code",
   "execution_count": 42,
   "id": "4a42366e-39e7-4e63-b73f-8dd23f58b800",
   "metadata": {},
   "outputs": [
    {
     "data": {
      "text/plain": [
       "0.35490034990035496"
      ]
     },
     "execution_count": 42,
     "metadata": {},
     "output_type": "execute_result"
    }
   ],
   "source": [
    "average_rouge_score(score)"
   ]
  },
  {
   "cell_type": "markdown",
   "id": "eca4e00f-110a-499e-9d9a-f434f1243321",
   "metadata": {},
   "source": [
    "**Q6. Average rouge score for all the data points"
   ]
  },
  {
   "cell_type": "code",
   "execution_count": 43,
   "id": "d241b9e0-a6fe-4c55-8238-8fbdd701061b",
   "metadata": {},
   "outputs": [
    {
     "data": {
      "application/vnd.jupyter.widget-view+json": {
       "model_id": "4e6ac63760a34c478d0332601e64769f",
       "version_major": 2,
       "version_minor": 0
      },
      "text/plain": [
       "  0%|          | 0/300 [00:00<?, ?it/s]"
      ]
     },
     "metadata": {},
     "output_type": "display_data"
    }
   ],
   "source": [
    "rouge_2_scores = []\n",
    "for i in tqdm(range(len(df))):\n",
    "    rec = df.iloc[i]\n",
    "    scores = get_scores(rec)\n",
    "    rouge_2 = scores['rouge-2']['f']\n",
    "    rouge_2_scores.append(rouge_2)"
   ]
  },
  {
   "cell_type": "code",
   "execution_count": 45,
   "id": "7dff1941-41ac-4d57-955e-ad95e2c9e759",
   "metadata": {},
   "outputs": [
    {
     "data": {
      "text/plain": [
       "count    300.000000\n",
       "mean       0.206965\n",
       "std        0.153550\n",
       "min        0.000000\n",
       "25%        0.097809\n",
       "50%        0.178671\n",
       "75%        0.286181\n",
       "max        0.739130\n",
       "Name: rouge_2_scores, dtype: float64"
      ]
     },
     "execution_count": 45,
     "metadata": {},
     "output_type": "execute_result"
    }
   ],
   "source": [
    "df[\"rouge_2_scores\"] = rouge_2_scores\n",
    "df[\"rouge_2_scores\"].describe()"
   ]
  },
  {
   "cell_type": "code",
   "execution_count": 46,
   "id": "eab8932d-f2c9-4a2e-9d51-f06ec4ab2d2e",
   "metadata": {},
   "outputs": [
    {
     "data": {
      "text/plain": [
       "0.20696501983423318"
      ]
     },
     "execution_count": 46,
     "metadata": {},
     "output_type": "execute_result"
    }
   ],
   "source": [
    "df[\"rouge_2_scores\"].mean()"
   ]
  },
  {
   "cell_type": "code",
   "execution_count": null,
   "id": "6b77c517-9915-4178-a280-c9ca5e34dfed",
   "metadata": {},
   "outputs": [],
   "source": []
  }
 ],
 "metadata": {
  "kernelspec": {
   "display_name": "Python 3 (ipykernel)",
   "language": "python",
   "name": "python3"
  },
  "language_info": {
   "codemirror_mode": {
    "name": "ipython",
    "version": 3
   },
   "file_extension": ".py",
   "mimetype": "text/x-python",
   "name": "python",
   "nbconvert_exporter": "python",
   "pygments_lexer": "ipython3",
   "version": "3.9.13"
  }
 },
 "nbformat": 4,
 "nbformat_minor": 5
}
